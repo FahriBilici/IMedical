{
 "cells": [
  {
   "cell_type": "code",
   "execution_count": 11,
   "metadata": {},
   "outputs": [],
   "source": [
    "from llama_cpp import Llama\n",
    "from llama_cpp.llama_chat_format import Llava15ChatHandler"
   ]
  },
  {
   "cell_type": "code",
   "execution_count": 14,
   "metadata": {},
   "outputs": [
    {
     "name": "stdout",
     "output_type": "stream",
     "text": [
      "clip_model_load: loaded meta data with 18 key-value pairs and 377 tensors from dapp_llava/mmproj-model-f16.gguf\n",
      "clip_model_load: Dumping metadata keys/values. Note: KV overrides do not apply in this output.\n",
      "clip_model_load: - kv   0:                       general.architecture str              = clip\n",
      "clip_model_load: - kv   1:                      clip.has_text_encoder bool             = false\n",
      "clip_model_load: - kv   2:                    clip.has_vision_encoder bool             = true\n",
      "clip_model_load: - kv   3:                   clip.has_llava_projector bool             = true\n",
      "clip_model_load: - kv   4:                          general.file_type u32              = 1\n",
      "clip_model_load: - kv   5:                               general.name str              = openai/clip-vit-large-patch14-336\n",
      "clip_model_load: - kv   6:                        general.description str              = image encoder for LLaVA\n",
      "clip_model_load: - kv   7:                     clip.vision.image_size u32              = 336\n",
      "clip_model_load: - kv   8:                     clip.vision.patch_size u32              = 14\n",
      "clip_model_load: - kv   9:               clip.vision.embedding_length u32              = 1024\n",
      "clip_model_load: - kv  10:            clip.vision.feed_forward_length u32              = 4096\n",
      "clip_model_load: - kv  11:                 clip.vision.projection_dim u32              = 768\n",
      "clip_model_load: - kv  12:           clip.vision.attention.head_count u32              = 16\n",
      "clip_model_load: - kv  13:   clip.vision.attention.layer_norm_epsilon f32              = 0.000010\n",
      "clip_model_load: - kv  14:                    clip.vision.block_count u32              = 23\n",
      "clip_model_load: - kv  15:                     clip.vision.image_mean arr[f32,3]       = [0.481455, 0.457828, 0.408211]\n",
      "clip_model_load: - kv  16:                      clip.vision.image_std arr[f32,3]       = [0.268630, 0.261303, 0.275777]\n",
      "clip_model_load: - kv  17:                              clip.use_gelu bool             = false\n",
      "clip_model_load: - type  f32:  235 tensors\n",
      "clip_model_load: - type  f16:  142 tensors\n",
      "clip_model_load: CLIP using Metal backend\n",
      "clip_model_load: params backend buffer size =  595.49 MB (377 tensors)\n"
     ]
    },
    {
     "name": "stderr",
     "output_type": "stream",
     "text": [
      "ggml_metal_init: allocating\n",
      "ggml_metal_init: found device: Apple M2\n",
      "ggml_metal_init: picking default device: Apple M2\n",
      "ggml_metal_init: default.metallib not found, loading from source\n",
      "ggml_metal_init: GGML_METAL_PATH_RESOURCES = nil\n",
      "ggml_metal_init: loading '/Users/fahri/anaconda3/envs/cartesi/lib/python3.11/site-packages/llama_cpp/ggml-metal.metal'\n",
      "ggml_metal_init: GPU name:   Apple M2\n",
      "ggml_metal_init: GPU family: MTLGPUFamilyApple8  (1008)\n",
      "ggml_metal_init: GPU family: MTLGPUFamilyCommon3 (3003)\n",
      "ggml_metal_init: GPU family: MTLGPUFamilyMetal3  (5001)\n",
      "ggml_metal_init: simdgroup reduction support   = true\n",
      "ggml_metal_init: simdgroup matrix mul. support = true\n",
      "ggml_metal_init: hasUnifiedMemory              = true\n",
      "ggml_metal_init: recommendedMaxWorkingSetSize  = 11453.25 MB\n",
      "ggml_backend_metal_buffer_type_alloc_buffer: allocated buffer, size =   595.50 MiB, (  597.38 / 10922.67)\n"
     ]
    },
    {
     "name": "stdout",
     "output_type": "stream",
     "text": [
      "clip_model_load: compute allocated memory: 32.89 MB\n"
     ]
    },
    {
     "name": "stderr",
     "output_type": "stream",
     "text": [
      "key clip.vision.image_grid_pinpoints not found in file\n",
      "key clip.vision.mm_patch_merge_type not found in file\n",
      "key clip.vision.image_crop_resolution not found in file\n",
      "ggml_backend_metal_buffer_type_alloc_buffer: allocated buffer, size =    32.89 MiB, (  630.27 / 10922.67)\n"
     ]
    }
   ],
   "source": [
    "chat_handler = Llava15ChatHandler(clip_model_path=\"dapp_llava/mmproj-model-f16.gguf\",verbose=True)"
   ]
  },
  {
   "cell_type": "code",
   "execution_count": 15,
   "metadata": {},
   "outputs": [
    {
     "name": "stderr",
     "output_type": "stream",
     "text": [
      "llama_model_loader: loaded meta data with 19 key-value pairs and 291 tensors from dapp_llava/ggml-model-q4_k.gguf (version GGUF V2)\n",
      "llama_model_loader: Dumping metadata keys/values. Note: KV overrides do not apply in this output.\n",
      "llama_model_loader: - kv   0:                       general.architecture str              = llama\n",
      "llama_model_loader: - kv   1:                               general.name str              = LLaMA v2\n",
      "llama_model_loader: - kv   2:                       llama.context_length u32              = 4096\n",
      "llama_model_loader: - kv   3:                     llama.embedding_length u32              = 4096\n",
      "llama_model_loader: - kv   4:                          llama.block_count u32              = 32\n",
      "llama_model_loader: - kv   5:                  llama.feed_forward_length u32              = 11008\n",
      "llama_model_loader: - kv   6:                 llama.rope.dimension_count u32              = 128\n",
      "llama_model_loader: - kv   7:                 llama.attention.head_count u32              = 32\n",
      "llama_model_loader: - kv   8:              llama.attention.head_count_kv u32              = 32\n",
      "llama_model_loader: - kv   9:     llama.attention.layer_norm_rms_epsilon f32              = 0.000010\n",
      "llama_model_loader: - kv  10:                          general.file_type u32              = 15\n",
      "llama_model_loader: - kv  11:                       tokenizer.ggml.model str              = llama\n",
      "llama_model_loader: - kv  12:                      tokenizer.ggml.tokens arr[str,32000]   = [\"<unk>\", \"<s>\", \"</s>\", \"<0x00>\", \"<...\n",
      "llama_model_loader: - kv  13:                      tokenizer.ggml.scores arr[f32,32000]   = [0.000000, 0.000000, 0.000000, 0.0000...\n",
      "llama_model_loader: - kv  14:                  tokenizer.ggml.token_type arr[i32,32000]   = [2, 3, 3, 6, 6, 6, 6, 6, 6, 6, 6, 6, ...\n",
      "llama_model_loader: - kv  15:                tokenizer.ggml.bos_token_id u32              = 1\n",
      "llama_model_loader: - kv  16:                tokenizer.ggml.eos_token_id u32              = 2\n",
      "llama_model_loader: - kv  17:            tokenizer.ggml.padding_token_id u32              = 0\n",
      "llama_model_loader: - kv  18:               general.quantization_version u32              = 2\n",
      "llama_model_loader: - type  f32:   65 tensors\n",
      "llama_model_loader: - type q4_K:  193 tensors\n",
      "llama_model_loader: - type q6_K:   33 tensors\n",
      "llm_load_vocab: special tokens definition check successful ( 259/32000 ).\n",
      "llm_load_print_meta: format           = GGUF V2\n",
      "llm_load_print_meta: arch             = llama\n",
      "llm_load_print_meta: vocab type       = SPM\n",
      "llm_load_print_meta: n_vocab          = 32000\n",
      "llm_load_print_meta: n_merges         = 0\n",
      "llm_load_print_meta: n_ctx_train      = 4096\n",
      "llm_load_print_meta: n_embd           = 4096\n",
      "llm_load_print_meta: n_head           = 32\n",
      "llm_load_print_meta: n_head_kv        = 32\n",
      "llm_load_print_meta: n_layer          = 32\n",
      "llm_load_print_meta: n_rot            = 128\n",
      "llm_load_print_meta: n_embd_head_k    = 128\n",
      "llm_load_print_meta: n_embd_head_v    = 128\n",
      "llm_load_print_meta: n_gqa            = 1\n",
      "llm_load_print_meta: n_embd_k_gqa     = 4096\n",
      "llm_load_print_meta: n_embd_v_gqa     = 4096\n",
      "llm_load_print_meta: f_norm_eps       = 0.0e+00\n",
      "llm_load_print_meta: f_norm_rms_eps   = 1.0e-05\n",
      "llm_load_print_meta: f_clamp_kqv      = 0.0e+00\n",
      "llm_load_print_meta: f_max_alibi_bias = 0.0e+00\n",
      "llm_load_print_meta: n_ff             = 11008\n",
      "llm_load_print_meta: n_expert         = 0\n",
      "llm_load_print_meta: n_expert_used    = 0\n",
      "llm_load_print_meta: pooling type     = 0\n",
      "llm_load_print_meta: rope type        = 0\n",
      "llm_load_print_meta: rope scaling     = linear\n",
      "llm_load_print_meta: freq_base_train  = 10000.0\n",
      "llm_load_print_meta: freq_scale_train = 1\n",
      "llm_load_print_meta: n_yarn_orig_ctx  = 4096\n",
      "llm_load_print_meta: rope_finetuned   = unknown\n",
      "llm_load_print_meta: ssm_d_conv       = 0\n",
      "llm_load_print_meta: ssm_d_inner      = 0\n",
      "llm_load_print_meta: ssm_d_state      = 0\n",
      "llm_load_print_meta: ssm_dt_rank      = 0\n",
      "llm_load_print_meta: model type       = 7B\n",
      "llm_load_print_meta: model ftype      = Q4_K - Medium\n",
      "llm_load_print_meta: model params     = 6.74 B\n",
      "llm_load_print_meta: model size       = 3.80 GiB (4.84 BPW) \n",
      "llm_load_print_meta: general.name     = LLaMA v2\n",
      "llm_load_print_meta: BOS token        = 1 '<s>'\n",
      "llm_load_print_meta: EOS token        = 2 '</s>'\n",
      "llm_load_print_meta: UNK token        = 0 '<unk>'\n",
      "llm_load_print_meta: PAD token        = 0 '<unk>'\n",
      "llm_load_print_meta: LF token         = 13 '<0x0A>'\n",
      "llm_load_tensors: ggml ctx size =    0.11 MiB\n",
      "llm_load_tensors: offloading 0 repeating layers to GPU\n",
      "llm_load_tensors: offloaded 0/33 layers to GPU\n",
      "llm_load_tensors:        CPU buffer size =  3891.24 MiB\n",
      "..................................................................................................\n",
      "llama_new_context_with_model: n_ctx      = 2048\n",
      "llama_new_context_with_model: freq_base  = 10000.0\n",
      "llama_new_context_with_model: freq_scale = 1\n",
      "llama_kv_cache_init:        CPU KV buffer size =  1024.00 MiB\n",
      "llama_new_context_with_model: KV self size  = 1024.00 MiB, K (f16):  512.00 MiB, V (f16):  512.00 MiB\n",
      "llama_new_context_with_model:        CPU input buffer size   =    13.02 MiB\n",
      "llama_new_context_with_model:        CPU compute buffer size =   160.00 MiB\n",
      "llama_new_context_with_model: graph splits (measure): 1\n",
      "AVX = 0 | AVX_VNNI = 0 | AVX2 = 0 | AVX512 = 0 | AVX512_VBMI = 0 | AVX512_VNNI = 0 | FMA = 0 | NEON = 1 | ARM_FMA = 1 | F16C = 0 | FP16_VA = 1 | WASM_SIMD = 0 | BLAS = 1 | SSE3 = 0 | SSSE3 = 0 | VSX = 0 | MATMUL_INT8 = 0 | \n",
      "Model metadata: {'general.quantization_version': '2', 'tokenizer.ggml.padding_token_id': '0', 'tokenizer.ggml.eos_token_id': '2', 'tokenizer.ggml.bos_token_id': '1', 'tokenizer.ggml.model': 'llama', 'llama.attention.head_count_kv': '32', 'llama.context_length': '4096', 'llama.attention.head_count': '32', 'llama.rope.dimension_count': '128', 'general.file_type': '15', 'llama.feed_forward_length': '11008', 'llama.embedding_length': '4096', 'llama.block_count': '32', 'general.architecture': 'llama', 'llama.attention.layer_norm_rms_epsilon': '0.000010', 'general.name': 'LLaMA v2'}\n"
     ]
    }
   ],
   "source": [
    "llm = Llama(\n",
    "  model_path=\"dapp_llava/ggml-model-q4_k.gguf\",\n",
    "  chat_handler=chat_handler,\n",
    "  n_ctx=2048, # n_ctx should be increased to accomodate the image embedding\n",
    "  logits_all=True,# needed to make llava work\n",
    ")"
   ]
  },
  {
   "cell_type": "code",
   "execution_count": 16,
   "metadata": {},
   "outputs": [],
   "source": [
    "import base64\n",
    "def image_to_base64_data_uri(file_path):\n",
    "    with open(file_path, \"rb\") as img_file:\n",
    "        base64_data = base64.b64encode(img_file.read()).decode('utf-8')\n",
    "        print(base64_data)\n",
    "        return f\"data:image/png;base64,{base64_data}\""
   ]
  },
  {
   "cell_type": "code",
   "execution_count": 17,
   "metadata": {},
   "outputs": [
    {
     "name": "stdout",
     "output_type": "stream",
     "text": [
      "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\n"
     ]
    }
   ],
   "source": [
    "data_uri = image_to_base64_data_uri(\"llava_logo_smallest.png\")"
   ]
  },
  {
   "cell_type": "code",
   "execution_count": 6,
   "metadata": {},
   "outputs": [
    {
     "name": "stdout",
     "output_type": "stream",
     "text": [
      "43824\n"
     ]
    }
   ],
   "source": [
    "data_uri = image_to_base64_data_uri(\"llava_logo_small.png\")"
   ]
  },
  {
   "cell_type": "code",
   "execution_count": 10,
   "metadata": {},
   "outputs": [
    {
     "name": "stdout",
     "output_type": "stream",
     "text": [
      "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\n"
     ]
    }
   ],
   "source": [
    "data_uri = image_to_base64_data_uri(\"llava_logo_smallest.png\")"
   ]
  },
  {
   "cell_type": "code",
   "execution_count": 8,
   "metadata": {},
   "outputs": [
    {
     "data": {
      "text/plain": [
       "'data:image/png;base64,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'"
      ]
     },
     "execution_count": 8,
     "metadata": {},
     "output_type": "execute_result"
    }
   ],
   "source": [
    "data_uri"
   ]
  },
  {
   "cell_type": "code",
   "execution_count": 18,
   "metadata": {},
   "outputs": [
    {
     "name": "stdout",
     "output_type": "stream",
     "text": [
      "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\n",
      "encode_image_with_clip: image embedding created: 576 tokens\n",
      "\n",
      "encode_image_with_clip: image encoded in   530.50 ms by CLIP (    0.92 ms per image patch)\n"
     ]
    },
    {
     "name": "stderr",
     "output_type": "stream",
     "text": [
      "Llama.generate: prefix-match hit\n",
      "\n",
      "llama_print_timings:        load time =   28272.17 ms\n",
      "llama_print_timings:      sample time =       9.16 ms /    87 runs   (    0.11 ms per token,  9500.93 tokens per second)\n",
      "llama_print_timings: prompt eval time =       0.00 ms /     1 tokens (    0.00 ms per token,      inf tokens per second)\n",
      "llama_print_timings:        eval time =  245756.48 ms /    87 runs   ( 2824.79 ms per token,     0.35 tokens per second)\n",
      "llama_print_timings:       total time =  246001.81 ms /    88 tokens\n"
     ]
    },
    {
     "data": {
      "text/plain": [
       "{'id': 'chatcmpl-bf7d21a2-ef0d-44b5-8389-4e8e40f7e6b5',\n",
       " 'object': 'chat.completion',\n",
       " 'created': 1711223658,\n",
       " 'model': 'dapp_llava/ggml-model-q4_k.gguf',\n",
       " 'choices': [{'index': 0,\n",
       "   'message': {'role': 'assistant',\n",
       "    'content': ' The image features a red and black stuffed toy, resembling a horse or a donkey, with a pair of glasses on its face. The toy appears to be a unique and quirky design, possibly a stuffed animal or a toy for children. The glasses on the toy give it a fun and playful appearance, making it a charming and eye-catching item.'},\n",
       "   'finish_reason': 'stop'}],\n",
       " 'usage': {'prompt_tokens': 605, 'completion_tokens': 86, 'total_tokens': 691}}"
      ]
     },
     "execution_count": 18,
     "metadata": {},
     "output_type": "execute_result"
    }
   ],
   "source": [
    "data_uri = image_to_base64_data_uri(\"llava_logo_smallest.png\")\n",
    "\n",
    "\n",
    "llm.create_chat_completion(\n",
    "    messages = [\n",
    "        {\"role\": \"system\", \"content\": \"You are an assistant who perfectly describes images.\"},\n",
    "        {\n",
    "            \"role\": \"user\",\n",
    "            \"content\": [\n",
    "                {\"type\": \"image_url\", \"image_url\": {\"url\": data_uri}},\n",
    "                {\"type\" : \"text\", \"text\": \"Describe this image in detail please.\"}\n",
    "            ]\n",
    "        }\n",
    "    ]\n",
    ")"
   ]
  },
  {
   "cell_type": "code",
   "execution_count": 19,
   "metadata": {},
   "outputs": [
    {
     "name": "stdout",
     "output_type": "stream",
     "text": [
      "encode_image_with_clip: image embedding created: 576 tokens\n",
      "\n",
      "encode_image_with_clip: image encoded in   594.18 ms by CLIP (    1.03 ms per image patch)\n"
     ]
    },
    {
     "name": "stderr",
     "output_type": "stream",
     "text": [
      "Llama.generate: prefix-match hit\n",
      "\n",
      "llama_print_timings:        load time =   28272.17 ms\n",
      "llama_print_timings:      sample time =       9.47 ms /    98 runs   (    0.10 ms per token, 10344.10 tokens per second)\n",
      "llama_print_timings: prompt eval time =       0.00 ms /     1 tokens (    0.00 ms per token,      inf tokens per second)\n",
      "llama_print_timings:        eval time =   12120.46 ms /    98 runs   (  123.68 ms per token,     8.09 tokens per second)\n",
      "llama_print_timings:       total time =   12326.93 ms /    99 tokens\n"
     ]
    }
   ],
   "source": [
    "response=llm.create_chat_completion(\n",
    "    messages = [\n",
    "        {\"role\": \"system\", \"content\": \"You are an assistant who perfectly describes images.\"},\n",
    "        {\n",
    "            \"role\": \"user\",\n",
    "            \"content\": [\n",
    "                {\"type\": \"image_url\", \"image_url\": {\"url\": data_uri}},\n",
    "                {\"type\" : \"text\", \"text\": \"Describe this image in detail please.\"}\n",
    "            ]\n",
    "        }\n",
    "    ]\n",
    ")"
   ]
  },
  {
   "cell_type": "code",
   "execution_count": 20,
   "metadata": {},
   "outputs": [
    {
     "data": {
      "text/plain": [
       "{'id': 'chatcmpl-a2fb654b-1490-4a70-9710-404f0065b53c',\n",
       " 'object': 'chat.completion',\n",
       " 'created': 1711223969,\n",
       " 'model': 'dapp_llava/ggml-model-q4_k.gguf',\n",
       " 'choices': [{'index': 0,\n",
       "   'message': {'role': 'assistant',\n",
       "    'content': ' The image features a toy horse with a unique design, resembling a horse with flames on its body and legs, giving it a fiery appearance. The horse is wearing glasses, adding to its quirky and playful appearance. The glasses have a red frame, which complements the overall color scheme of the toy horse. The toy horse is standing on a table, drawing attention to its eye-catching design and charming features.'},\n",
       "   'finish_reason': 'stop'}],\n",
       " 'usage': {'prompt_tokens': 605, 'completion_tokens': 97, 'total_tokens': 702}}"
      ]
     },
     "execution_count": 20,
     "metadata": {},
     "output_type": "execute_result"
    }
   ],
   "source": [
    "response"
   ]
  },
  {
   "cell_type": "code",
   "execution_count": 21,
   "metadata": {},
   "outputs": [
    {
     "data": {
      "text/plain": [
       "' The image features a toy horse with a unique design, resembling a horse with flames on its body and legs, giving it a fiery appearance. The horse is wearing glasses, adding to its quirky and playful appearance. The glasses have a red frame, which complements the overall color scheme of the toy horse. The toy horse is standing on a table, drawing attention to its eye-catching design and charming features.'"
      ]
     },
     "execution_count": 21,
     "metadata": {},
     "output_type": "execute_result"
    }
   ],
   "source": [
    "response['choices'][0]['message']['content']"
   ]
  },
  {
   "cell_type": "code",
   "execution_count": null,
   "metadata": {},
   "outputs": [],
   "source": []
  }
 ],
 "metadata": {
  "kernelspec": {
   "display_name": "cartesi",
   "language": "python",
   "name": "python3"
  },
  "language_info": {
   "codemirror_mode": {
    "name": "ipython",
    "version": 3
   },
   "file_extension": ".py",
   "mimetype": "text/x-python",
   "name": "python",
   "nbconvert_exporter": "python",
   "pygments_lexer": "ipython3",
   "version": "3.11.8"
  }
 },
 "nbformat": 4,
 "nbformat_minor": 2
}
